{
 "cells": [
  {
   "cell_type": "markdown",
   "id": "49b24c69",
   "metadata": {},
   "source": [
    "NumPy là thư viện mạnh mẽ trong Python để làm việc với mảng (arrays) và thực hiện các phép toán số học. Dưới đây là một số câu lệnh hữu ích nhất trong NumPy:\n",
    "Tạo mảng một chiều:\n",
    "Tạo mảng hai chiều (ma trận):\n",
    "Mảng toàn bộ giá trị 0:\n",
    "Mảng toàn bộ giá trị 1:\n",
    "Mảng với các giá trị ngẫu nhiên:\n",
    "\n",
    "Pandas là thư viện tuyệt vời cho việc xử lý dữ liệu dạng bảng như DataFrame. Dưới đây là các câu lệnh hữu ích trong Pandas:\n",
    "Tạo DataFrame từ dictionary:\n",
    "Đọc file CSV vào DataFrame:\n",
    "Truy xuất một cột:\n",
    "Truy xuất một dòng:\n",
    "Thêm một cột mới:\n",
    "Thêm một dòng mới:\n",
    "Tính tổng các giá trị trong cột:\n",
    "Tính giá trị trung bình của một cột:\n",
    "Tính độ lệch chuẩn:\n",
    "Thống kê mô tả về DataFrame: df.describe()\n",
    "Kiểm tra các giá trị thiếu (NaN): print(df.isnull()) \n",
    "Xóa cột trong DataFrame:\n",
    "Lưu DataFrame vào file CSV: df.to_csv('output.csv', index=False)\n"
   ]
  },
  {
   "cell_type": "code",
   "execution_count": 14,
   "id": "d2eec844",
   "metadata": {},
   "outputs": [
    {
     "data": {
      "text/html": [
       "<div>\n",
       "<style scoped>\n",
       "    .dataframe tbody tr th:only-of-type {\n",
       "        vertical-align: middle;\n",
       "    }\n",
       "\n",
       "    .dataframe tbody tr th {\n",
       "        vertical-align: top;\n",
       "    }\n",
       "\n",
       "    .dataframe thead th {\n",
       "        text-align: right;\n",
       "    }\n",
       "</style>\n",
       "<table border=\"1\" class=\"dataframe\">\n",
       "  <thead>\n",
       "    <tr style=\"text-align: right;\">\n",
       "      <th></th>\n",
       "      <th>name</th>\n",
       "      <th>age</th>\n",
       "      <th>city</th>\n",
       "    </tr>\n",
       "  </thead>\n",
       "  <tbody>\n",
       "    <tr>\n",
       "      <th>0</th>\n",
       "      <td>Khanh</td>\n",
       "      <td>20</td>\n",
       "      <td>Da Nang</td>\n",
       "    </tr>\n",
       "    <tr>\n",
       "      <th>1</th>\n",
       "      <td>Hanh</td>\n",
       "      <td>21</td>\n",
       "      <td>Hue</td>\n",
       "    </tr>\n",
       "    <tr>\n",
       "      <th>2</th>\n",
       "      <td>Hieu</td>\n",
       "      <td>22</td>\n",
       "      <td>Quang Tri</td>\n",
       "    </tr>\n",
       "  </tbody>\n",
       "</table>\n",
       "</div>"
      ],
      "text/plain": [
       "    name  age       city\n",
       "0  Khanh   20    Da Nang\n",
       "1   Hanh   21        Hue\n",
       "2   Hieu   22  Quang Tri"
      ]
     },
     "metadata": {},
     "output_type": "display_data"
    },
    {
     "name": "stdout",
     "output_type": "stream",
     "text": [
      "name    Hanh\n",
      "age       21\n",
      "city     Hue\n",
      "Name: 1, dtype: object\n",
      "        age\n",
      "count   3.0\n",
      "mean   21.0\n",
      "std     1.0\n",
      "min    20.0\n",
      "25%    20.5\n",
      "50%    21.0\n",
      "75%    21.5\n",
      "max    22.0\n"
     ]
    }
   ],
   "source": [
    "from IPython.display import display\n",
    "import pandas as pd\n",
    "\n",
    "# Tạo DataFrame\n",
    "data = {'name': ['Khanh', 'Hanh', 'Hieu'],\n",
    "        'age': [20, 21, 22],\n",
    "        'city': ['Da Nang', 'Hue', 'Quang Tri']}\n",
    "\n",
    "\n",
    "df = pd.DataFrame(data)\n",
    "\n",
    "\n",
    "# Hiển thị DataFrame đẹp\n",
    "display(df)\n",
    "print(df.iloc[1])  # Truy xuất dòng thứ 2\n",
    "print(df.describe())  # Thống kê mô tả cho tất cả các cột số\n"
   ]
  },
  {
   "cell_type": "markdown",
   "id": "0b6b403b",
   "metadata": {},
   "source": [
    "<h1>Sử dụng NumPy để tạo một mảng ngẫu nhiên 1000 phần tử và chuyển nó thành một DataFrame trong Pandas. Sau đó, tính toán các thống kê cơ bản (tổng, trung bình, độ lệch chuẩn)."
   ]
  },
  {
   "cell_type": "code",
   "execution_count": 4,
   "id": "52d47a55",
   "metadata": {},
   "outputs": [
    {
     "data": {
      "text/html": [
       "<div>\n",
       "<style scoped>\n",
       "    .dataframe tbody tr th:only-of-type {\n",
       "        vertical-align: middle;\n",
       "    }\n",
       "\n",
       "    .dataframe tbody tr th {\n",
       "        vertical-align: top;\n",
       "    }\n",
       "\n",
       "    .dataframe thead th {\n",
       "        text-align: right;\n",
       "    }\n",
       "</style>\n",
       "<table border=\"1\" class=\"dataframe\">\n",
       "  <thead>\n",
       "    <tr style=\"text-align: right;\">\n",
       "      <th></th>\n",
       "      <th>value</th>\n",
       "    </tr>\n",
       "  </thead>\n",
       "  <tbody>\n",
       "    <tr>\n",
       "      <th>0</th>\n",
       "      <td>1</td>\n",
       "    </tr>\n",
       "    <tr>\n",
       "      <th>1</th>\n",
       "      <td>39</td>\n",
       "    </tr>\n",
       "    <tr>\n",
       "      <th>2</th>\n",
       "      <td>43</td>\n",
       "    </tr>\n",
       "    <tr>\n",
       "      <th>3</th>\n",
       "      <td>86</td>\n",
       "    </tr>\n",
       "    <tr>\n",
       "      <th>4</th>\n",
       "      <td>91</td>\n",
       "    </tr>\n",
       "    <tr>\n",
       "      <th>...</th>\n",
       "      <td>...</td>\n",
       "    </tr>\n",
       "    <tr>\n",
       "      <th>995</th>\n",
       "      <td>8</td>\n",
       "    </tr>\n",
       "    <tr>\n",
       "      <th>996</th>\n",
       "      <td>13</td>\n",
       "    </tr>\n",
       "    <tr>\n",
       "      <th>997</th>\n",
       "      <td>59</td>\n",
       "    </tr>\n",
       "    <tr>\n",
       "      <th>998</th>\n",
       "      <td>92</td>\n",
       "    </tr>\n",
       "    <tr>\n",
       "      <th>999</th>\n",
       "      <td>35</td>\n",
       "    </tr>\n",
       "  </tbody>\n",
       "</table>\n",
       "<p>1000 rows × 1 columns</p>\n",
       "</div>"
      ],
      "text/plain": [
       "     value\n",
       "0        1\n",
       "1       39\n",
       "2       43\n",
       "3       86\n",
       "4       91\n",
       "..     ...\n",
       "995      8\n",
       "996     13\n",
       "997     59\n",
       "998     92\n",
       "999     35\n",
       "\n",
       "[1000 rows x 1 columns]"
      ]
     },
     "metadata": {},
     "output_type": "display_data"
    },
    {
     "name": "stdout",
     "output_type": "stream",
     "text": [
      "Sum: 50389\n",
      "Trung bình: 50.389\n",
      "Độ lệch chuẩn: 28.533802004935424\n"
     ]
    }
   ],
   "source": [
    "import numpy as np\n",
    "import pandas as pd\n",
    "\n",
    "#Tao mang ngau nhien\n",
    "random_data = np.random.randint(1,100,size = 1000)\n",
    "\n",
    "#Chuyen mang thanh DataFrame\n",
    "df = pd.DataFrame(random_data, columns=['value'])\n",
    "\n",
    "#Tinh toan thong ke co ban\n",
    "total = df['value'].sum()\n",
    "mean = df['value'].mean()\n",
    "std_dev = df['value'].std()\n",
    "\n",
    "# In kết quả\n",
    "display(df)\n",
    "print(f\"Sum: {total}\")\n",
    "print(f\"Trung bình: {mean}\")\n",
    "print(f\"Độ lệch chuẩn: {std_dev}\")  "
   ]
  },
  {
   "cell_type": "code",
   "execution_count": 5,
   "id": "51fcf713",
   "metadata": {},
   "outputs": [
    {
     "data": {
      "text/plain": [
       "<module 'matplotlib.pyplot' from 'd:\\\\Program Files\\\\Python\\\\Lib\\\\site-packages\\\\matplotlib\\\\pyplot.py'>"
      ]
     },
     "metadata": {},
     "output_type": "display_data"
    },
    {
     "data": {
      "image/png": "[encoded data removed]",
      "text/plain": [
       "<Figure size 640x480 with 1 Axes>"
      ]
     },
     "metadata": {},
     "output_type": "display_data"
    }
   ],
   "source": [
    "import matplotlib.pyplot as plt\n",
    "from IPython.display import display\n",
    "\n",
    "# Tạo biểu đồ đơn giản\n",
    "plt.plot([1, 2, 3, 4, 5], [5, 6, 2, 3, 13])\n",
    "plt.title('Simple Plot')\n",
    "\n",
    "# Hiển thị biểu đồ\n",
    "display(plt)"
   ]
  },
  {
   "cell_type": "code",
   "execution_count": 9,
   "id": "a4b0c258",
   "metadata": {},
   "outputs": [
    {
     "name": "stdout",
     "output_type": "stream",
     "text": [
      "[[0. 0. 0.]\n",
      " [0. 0. 0.]\n",
      " [0. 0. 0.]]\n",
      "[[1. 1. 1. 1.]\n",
      " [1. 1. 1. 1.]]\n",
      "[[0.82736452 0.55047765 0.28895189]\n",
      " [0.55659429 0.60628615 0.19183493]\n",
      " [0.94280213 0.26032181 0.63350626]]\n"
     ]
    }
   ],
   "source": [
    "zeros = np.zeros((3, 3))  # Mảng 3x3 toàn bộ 0\n",
    "print(zeros)\n",
    "\n",
    "ones = np.ones((2, 4))  # Mảng 2x4 toàn bộ 1\n",
    "print(ones)\n",
    "\n",
    "random_arr = np.random.rand(3, 3)  # Mảng 3x3 với các giá trị ngẫu nhiên từ 0 đến 1\n",
    "print(random_arr)\n"
   ]
  }
 ],
 "metadata": {
  "kernelspec": {
   "display_name": "Python 3",
   "language": "python",
   "name": "python3"
  },
  "language_info": {
   "codemirror_mode": {
    "name": "ipython",
    "version": 3
   },
   "file_extension": ".py",
   "mimetype": "text/x-python",
   "name": "python",
   "nbconvert_exporter": "python",
   "pygments_lexer": "ipython3",
   "version": "3.11.9"
  }
 },
 "nbformat": 4,
 "nbformat_minor": 5
}
