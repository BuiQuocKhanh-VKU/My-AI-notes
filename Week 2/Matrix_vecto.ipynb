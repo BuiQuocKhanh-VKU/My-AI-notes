{
 "cells": [
  {
   "cell_type": "markdown",
   "id": "6c191c38",
   "metadata": {},
   "source": [
    "Dai so tuyen tinh\n",
    "- Ma tran: la m hang va n cot\n",
    "- Vecto: la mang hoac danh sach cac so"
   ]
  },
  {
   "cell_type": "code",
   "execution_count": 11,
   "id": "0fc8e080",
   "metadata": {},
   "outputs": [
    {
     "name": "stdout",
     "output_type": "stream",
     "text": [
      "A + B = \n",
      " [[10 12]\n",
      " [14 16]]\n",
      "A * B = \n",
      " [[ 57  64]\n",
      " [ 89 100]]\n",
      "Nhan ma tran voi vo huong\n",
      "3 * C = \n",
      " [[ 6  9]\n",
      " [12 15]]\n",
      "Nhan ma tran voi vecto\n",
      "D * v = \n",
      " [ 7 15]\n",
      "Tich vo huong 2 vecto\n",
      "u * v =  32\n",
      "Giai he phuong trinh tuyen tinh\n",
      "Nghiem cua he phuong trinh la:  [ 4. -1.]\n",
      "Cong vecto\n",
      "v1 + v2 =  [5 7 9]\n",
      "Chuyen vi\n",
      "Chuyen vi cua M la: \n",
      " [[1 4]\n",
      " [2 5]\n",
      " [3 6]]\n"
     ]
    }
   ],
   "source": [
    "import numpy as np\n",
    "#Cong ma tran\n",
    "A = np.array([[3,4],[5,6]])\n",
    "B = np.array([[7,8],[9,10]])\n",
    "\n",
    "C = A + B\n",
    "print(\"A + B = \\n\", C)\n",
    "\n",
    "D = np.dot(A, B)\n",
    "print(\"A * B = \\n\", D)\n",
    "\n",
    "#Nhan ma tran vs vo huong\n",
    "print(\"Nhan ma tran voi vo huong\")\n",
    "C = np.array([[2,3],[4,5]])\n",
    "F = 3 * C\n",
    "print(\"3 * C = \\n\", F)  \n",
    "\n",
    "#Nhan ma tran voi vecto \n",
    "print(\"Nhan ma tran voi vecto\")\n",
    "D = np.array([[1,2],[3,4]])\n",
    "V = np.array([1,3])\n",
    "G = np.dot(D, V)\n",
    "print(\"D * v = \\n\", G)\n",
    "\n",
    "#tich vo huong 2 vecto\n",
    "print(\"Tich vo huong 2 vecto\")\n",
    "u = np.array([1,2,3])\n",
    "v = np.array([4,5,6])\n",
    "H = np.dot(u, v)\n",
    "print(\"u * v = \", H)\n",
    "\n",
    "#gia he phuong trinh tuyen tinh\n",
    "print(\"Giai he phuong trinh tuyen tinh\")\n",
    "A = np.array([[2,3],[4,5]])\n",
    "B = np.array([5,11])\n",
    "X = np.linalg.solve(A, B)\n",
    "print(\"Nghiem cua he phuong trinh la: \", X)\n",
    "\n",
    "#cong vecto\n",
    "print(\"Cong vecto\")\n",
    "v1 = np.array([1,2,3])\n",
    "v2 = np.array([4,5,6])\n",
    "v3 = v1 + v2\n",
    "print(\"v1 + v2 = \", v3)\n",
    "\n",
    "#chuyen vi\n",
    "print(\"Chuyen vi\")\n",
    "M = np.array([[1,2,3],[4,5,6]])\n",
    "M_T = np.transpose(M)\n",
    "print(\"Chuyen vi cua M la: \\n\", M_T)\n",
    "\n"
   ]
  },
  {
   "cell_type": "markdown",
   "id": "2568b54f",
   "metadata": {},
   "source": [
    "Day 8"
   ]
  },
  {
   "cell_type": "code",
   "execution_count": 15,
   "id": "60a2f1f3",
   "metadata": {},
   "outputs": [
    {
     "name": "stdout",
     "output_type": "stream",
     "text": [
      "Ex1: Cong ma tran kich thuoc khac:\n",
      "Khong the cong ma tran kich thuoc khac nhau.\n",
      "Ex2: Nhan ma tran voi vecto:\n",
      "D * v = \n",
      " [26 56]\n",
      "Ex3: Tich vo huong 2 vecto:\n",
      "u * v =  32\n",
      "Ex4: Cong ma tran va nhan ma tran:\n",
      "A + B =\n",
      " [[ 9 10]\n",
      " [11  6]]\n",
      "A x B =\n",
      " [[26 34]\n",
      " [46 61]]\n",
      "Ex5: Ma tran vuong va dinh thuc:\n",
      "Định thức của ma trận M = 9.000000000000002\n"
     ]
    }
   ],
   "source": [
    "import numpy as np\n",
    "#cong ma tran kich thuoc khac \n",
    "print(\"Ex1: Cong ma tran kich thuoc khac:\")\n",
    "A = np.array([[3, 5], [7, 9], [2, 4]])\n",
    "B = np.array([[1, 3], [6, 8]])\n",
    "try:\n",
    "    result = A + B\n",
    "    print(\"A + B = \\n\", result)\n",
    "except ValueError:\n",
    "    print(\"Khong the cong ma tran kich thuoc khac nhau.\")\n",
    "\n",
    "#nhan ma tran voi vecto\n",
    "print(\"Ex2: Nhan ma tran voi vecto:\")   \n",
    "D = np.array([[1, 4, 3], [5, 6, 7]])\n",
    "v = np.array([2, 3, 4])\n",
    "Dv = np.dot(D, v)\n",
    "print(\"D * v = \\n\", Dv)\n",
    "\n",
    "#tich vo huong 2 vecto\n",
    "print(\"Ex3: Tich vo huong 2 vecto:\")\n",
    "u = np.array([4, 5, 6])\n",
    "v = np.array([1, 2, 3])\n",
    "dot_product = np.dot(u, v)\n",
    "print(\"u * v = \", dot_product)\n",
    "\n",
    "#cong ma tran va nhan ma tran\n",
    "print(\"Ex4: Cong ma tran va nhan ma tran:\")\n",
    "A = np.array([[3, 2], [7, 1]])\n",
    "B = np.array([[6, 8], [4, 5]])\n",
    "A_plus_B = A + B\n",
    "A_times_B = np.dot(A, B)\n",
    "print(\"A + B =\\n\", A_plus_B)\n",
    "print(\"A x B =\\n\", A_times_B)\n",
    "\n",
    "#ma tran vuong vs dinh thuc\n",
    "print(\"Ex5: Ma tran vuong va dinh thuc:\")\n",
    "M = np.array([[1, 3, 2], [4, 5, 6], [7, 8, 9]])\n",
    "det_M = np.linalg.det(M)\n",
    "print(\"Định thức của ma trận M =\", det_M)"
   ]
  }
 ],
 "metadata": {
  "kernelspec": {
   "display_name": "Python 3",
   "language": "python",
   "name": "python3"
  },
  "language_info": {
   "codemirror_mode": {
    "name": "ipython",
    "version": 3
   },
   "file_extension": ".py",
   "mimetype": "text/x-python",
   "name": "python",
   "nbconvert_exporter": "python",
   "pygments_lexer": "ipython3",
   "version": "3.11.9"
  }
 },
 "nbformat": 4,
 "nbformat_minor": 5
}
